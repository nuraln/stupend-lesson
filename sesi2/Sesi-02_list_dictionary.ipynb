{
 "cells": [
  {
   "cell_type": "code",
   "execution_count": 1,
   "id": "457477a4",
   "metadata": {},
   "outputs": [],
   "source": [
    "a = 20\n",
    "b = 20"
   ]
  },
  {
   "cell_type": "code",
   "execution_count": 2,
   "id": "bb7f6a3f",
   "metadata": {},
   "outputs": [
    {
     "name": "stdout",
     "output_type": "stream",
     "text": [
      "a sama dengan b\n"
     ]
    }
   ],
   "source": [
    "if a == b:\n",
    "    print('a sama dengan b')\n",
    "elif a % b == 0:\n",
    "    print('a habis dibagi oleh b')\n",
    "elif a>b:\n",
    "    print('a lebih besar dari b')"
   ]
  },
  {
   "cell_type": "code",
   "execution_count": 4,
   "id": "ccc6859e",
   "metadata": {},
   "outputs": [
    {
     "name": "stdout",
     "output_type": "stream",
     "text": [
      "a sama dengan b\n",
      "print kedua\n"
     ]
    }
   ],
   "source": [
    "# bentuk oneline\n",
    "\n",
    "if a==b:print('a sama dengan b');print('print kedua')\n",
    "elif a>b: print('a lebih besar dari b')\n",
    "else: print('a lebih kecil dari b')"
   ]
  },
  {
   "cell_type": "code",
   "execution_count": 6,
   "id": "1743d143",
   "metadata": {},
   "outputs": [
    {
     "name": "stdout",
     "output_type": "stream",
     "text": [
      "Ayo pergi ke cafe\n"
     ]
    }
   ],
   "source": [
    "hujan = True\n",
    "\n",
    "'diluar hujan' if hujan  else 'diluar cerah'\n",
    "\n",
    "print('Ayo pergi ke', 'pantai' if not hujan else 'cafe')"
   ]
  },
  {
   "cell_type": "code",
   "execution_count": 7,
   "id": "a5ec7ebf",
   "metadata": {},
   "outputs": [
    {
     "ename": "NameError",
     "evalue": "name 'umut' is not defined",
     "output_type": "error",
     "traceback": [
      "\u001b[1;31m---------------------------------------------------------------------------\u001b[0m",
      "\u001b[1;31mNameError\u001b[0m                                 Traceback (most recent call last)",
      "\u001b[1;32m~\\AppData\\Local\\Temp\\ipykernel_1804\\112613799.py\u001b[0m in \u001b[0;36m<module>\u001b[1;34m\u001b[0m\n\u001b[0;32m      1\u001b[0m \u001b[0mumur\u001b[0m \u001b[1;33m=\u001b[0m \u001b[1;36m20\u001b[0m\u001b[1;33m\u001b[0m\u001b[1;33m\u001b[0m\u001b[0m\n\u001b[1;32m----> 2\u001b[1;33m \u001b[0mstatus_ktp\u001b[0m \u001b[1;33m=\u001b[0m \u001b[1;34m'belum punya KTP'\u001b[0m \u001b[1;32mif\u001b[0m \u001b[0mumut\u001b[0m \u001b[1;33m<\u001b[0m \u001b[1;36m17\u001b[0m \u001b[1;32melse\u001b[0m \u001b[1;34m'sudah punya KTP'\u001b[0m\u001b[1;33m\u001b[0m\u001b[1;33m\u001b[0m\u001b[0m\n\u001b[0m",
      "\u001b[1;31mNameError\u001b[0m: name 'umut' is not defined"
     ]
    }
   ],
   "source": [
    "umur = 20\n",
    "status_ktp = 'belum punya KTP' if umuR < 17 else 'sudah punya KTP'"
   ]
  },
  {
   "cell_type": "code",
   "execution_count": null,
   "id": "f2e00978",
   "metadata": {},
   "outputs": [],
   "source": [
    "umur2 = 15\n",
    "\n",
    "if umur <17:\n",
    "    status_ktp = 'Belum punya KTP'\n",
    "else:\n",
    "    status_ktp = 'Sudah punya KTP'"
   ]
  },
  {
   "cell_type": "code",
   "execution_count": 10,
   "id": "6a0724ea",
   "metadata": {},
   "outputs": [],
   "source": [
    "a = 10\n",
    "b = 30\n",
    "\n",
    "if a>=b:\n",
    "    m = a\n",
    "else:\n",
    "#     m = b\n",
    "    pass #biar ngga ngapa-ngapain dan tidak error"
   ]
  },
  {
   "cell_type": "code",
   "execution_count": null,
   "id": "b14aa180",
   "metadata": {},
   "outputs": [],
   "source": []
  },
  {
   "cell_type": "code",
   "execution_count": 12,
   "id": "e0a1f106",
   "metadata": {},
   "outputs": [],
   "source": [
    "# Looping\n",
    "#  di python (2)\n",
    "#     while\n",
    "#     for => ngga perlu tau ujungnya dimana "
   ]
  },
  {
   "cell_type": "code",
   "execution_count": 14,
   "id": "47e9caa8",
   "metadata": {},
   "outputs": [],
   "source": [
    "# While lo >14op\n",
    "\n",
    "a = 10\n",
    "a\n",
    "while a < 0:\n",
    "    print(a)"
   ]
  },
  {
   "cell_type": "code",
   "execution_count": 17,
   "id": "1ec326dd",
   "metadata": {},
   "outputs": [
    {
     "name": "stdout",
     "output_type": "stream",
     "text": [
      "1\n",
      "2\n"
     ]
    }
   ],
   "source": [
    "i = 0 \n",
    "while i < 10:\n",
    "    i += 1 \n",
    "    if i == 3:\n",
    "        break\n",
    "    print(i)"
   ]
  },
  {
   "cell_type": "code",
   "execution_count": 19,
   "id": "37273d65",
   "metadata": {},
   "outputs": [
    {
     "name": "stdout",
     "output_type": "stream",
     "text": [
      "0\n",
      "1\n",
      "2\n",
      "3\n"
     ]
    }
   ],
   "source": [
    "i = 0 \n",
    "while i < 10:\n",
    "    print(i)\n",
    "    if i == 3:\n",
    "        break\n",
    "    i += 1 "
   ]
  },
  {
   "cell_type": "code",
   "execution_count": 20,
   "id": "ba175fb2",
   "metadata": {},
   "outputs": [
    {
     "name": "stdout",
     "output_type": "stream",
     "text": [
      "0\n",
      "1\n",
      "2\n",
      "3\n",
      "4\n",
      "5\n",
      "6\n",
      "7\n",
      "8\n",
      "9\n"
     ]
    }
   ],
   "source": [
    "i = 0 \n",
    "while i < 10:\n",
    "    print(i)\n",
    "    if i == 3:\n",
    "        pass\n",
    "    i += 1 "
   ]
  },
  {
   "cell_type": "code",
   "execution_count": 16,
   "id": "4e985514",
   "metadata": {},
   "outputs": [
    {
     "name": "stdout",
     "output_type": "stream",
     "text": [
      "1\n",
      "2\n",
      "4\n",
      "5\n",
      "6\n",
      "7\n",
      "8\n",
      "9\n",
      "10\n",
      "diluar loop\n"
     ]
    }
   ],
   "source": [
    "i = 0 \n",
    "while i < 10:\n",
    "    i += 1 \n",
    "    if i == 3:\n",
    "        continue\n",
    "    print(i)\n",
    "    \n",
    "print('diluar loop')"
   ]
  },
  {
   "cell_type": "code",
   "execution_count": 23,
   "id": "314f1e29",
   "metadata": {},
   "outputs": [
    {
     "name": "stdout",
     "output_type": "stream",
     "text": [
      "0\n",
      "0\n",
      "0\n",
      "0\n",
      "0\n",
      "0\n",
      "0\n",
      "0\n",
      "0\n",
      "0\n"
     ]
    }
   ],
   "source": [
    "i = j = 0\n",
    "while i < 10:\n",
    "    while j < 10:\n",
    "        print(i)\n",
    "        j+=1\n",
    "    i+=1\n",
    "        "
   ]
  },
  {
   "cell_type": "code",
   "execution_count": 25,
   "id": "0d57332a",
   "metadata": {},
   "outputs": [
    {
     "name": "stdout",
     "output_type": "stream",
     "text": [
      "0 0 0 0 0 0 0 0 0 0 \n",
      "1 1 1 1 1 1 1 1 1 1 \n",
      "2 2 2 2 2 2 2 2 2 2 \n",
      "3 3 3 3 3 3 3 3 3 3 \n",
      "4 4 4 4 4 4 4 4 4 4 \n",
      "5 5 5 5 5 5 5 5 5 5 \n",
      "6 6 6 6 6 6 6 6 6 6 \n",
      "7 7 7 7 7 7 7 7 7 7 \n",
      "8 8 8 8 8 8 8 8 8 8 \n",
      "9 9 9 9 9 9 9 9 9 9 \n"
     ]
    }
   ],
   "source": [
    "i = j = 0\n",
    "while i < 10:\n",
    "    j=0\n",
    "    while j < 10:\n",
    "        print(i, end=' ')\n",
    "        j+=1\n",
    "    print()\n",
    "    i+=1"
   ]
  },
  {
   "cell_type": "code",
   "execution_count": null,
   "id": "553feaf7",
   "metadata": {},
   "outputs": [],
   "source": [
    "i = 0\n",
    "while i < 10:\n",
    "    i += 1\n",
    "    if - ==3 :\n",
    "        break\n",
    "    print(i)\n",
    "else: \n",
    "    print('akhir loop')\n",
    "    \n",
    "print('diluar loop')"
   ]
  },
  {
   "cell_type": "code",
   "execution_count": null,
   "id": "62442b31",
   "metadata": {},
   "outputs": [],
   "source": []
  },
  {
   "cell_type": "code",
   "execution_count": null,
   "id": "cc27c257",
   "metadata": {},
   "outputs": [],
   "source": [
    "# for loop"
   ]
  },
  {
   "cell_type": "code",
   "execution_count": null,
   "id": "a5a00c84",
   "metadata": {},
   "outputs": [],
   "source": [
    "for i in range(1,11):\n",
    "    if i == 3:\n",
    "        break\n",
    "    print(i)\n",
    "else:\n",
    "    print(\"Loop Selesai\")"
   ]
  },
  {
   "cell_type": "code",
   "execution_count": null,
   "id": "52c7dc05",
   "metadata": {},
   "outputs": [],
   "source": [
    "for i in range(1,11):\n",
    "    if i == 3:\n",
    "        continue\n",
    "    print(i)\n",
    "else:\n",
    "    print(\"Loop Selesai\")"
   ]
  }
 ],
 "metadata": {
  "kernelspec": {
   "display_name": "Python 3 (ipykernel)",
   "language": "python",
   "name": "python3"
  },
  "language_info": {
   "codemirror_mode": {
    "name": "ipython",
    "version": 3
   },
   "file_extension": ".py",
   "mimetype": "text/x-python",
   "name": "python",
   "nbconvert_exporter": "python",
   "pygments_lexer": "ipython3",
   "version": "3.9.13"
  }
 },
 "nbformat": 4,
 "nbformat_minor": 5
}
