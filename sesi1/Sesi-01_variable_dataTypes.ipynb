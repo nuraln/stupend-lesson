{
 "cells": [
  {
   "cell_type": "code",
   "execution_count": 2,
   "id": "d964a9d3",
   "metadata": {},
   "outputs": [
    {
     "name": "stdout",
     "output_type": "stream",
     "text": [
      "0.4\n",
      "0.4\n",
      "2300000.0\n",
      "0.0005\n"
     ]
    }
   ],
   "source": [
    "# Float\n",
    "print (0.4)\n",
    "print(.4)\n",
    "print(2.3e6)  # 2,3 kali 10 pangkat 6 \n",
    "print(5e-4)  # 5 kali 10 pangkat 4"
   ]
  },
  {
   "cell_type": "code",
   "execution_count": 3,
   "id": "f16565e7",
   "metadata": {},
   "outputs": [
    {
     "name": "stdout",
     "output_type": "stream",
     "text": [
      "This string contains a qoute (\")\n"
     ]
    }
   ],
   "source": [
    "# String\n",
    "print('This string contains a qoute (\")')"
   ]
  },
  {
   "cell_type": "code",
   "execution_count": 4,
   "id": "629c8a1c",
   "metadata": {},
   "outputs": [
    {
     "name": "stdout",
     "output_type": "stream",
     "text": [
      "True\n",
      "False\n"
     ]
    }
   ],
   "source": [
    "# Boolean\n",
    "print(True)\n",
    "print(False)"
   ]
  },
  {
   "cell_type": "code",
   "execution_count": null,
   "id": "07da16a0",
   "metadata": {},
   "outputs": [],
   "source": [
    "string"
   ]
  },
  {
   "cell_type": "code",
   "execution_count": 5,
   "id": "aa2ef84a",
   "metadata": {},
   "outputs": [
    {
     "name": "stdout",
     "output_type": "stream",
     "text": [
      "<class 'int'>\n"
     ]
    }
   ],
   "source": [
    "a = 7\n",
    "print(type(a))"
   ]
  },
  {
   "cell_type": "code",
   "execution_count": 8,
   "id": "c58c43f7",
   "metadata": {},
   "outputs": [
    {
     "name": "stdout",
     "output_type": "stream",
     "text": [
      "False\n",
      "True\n",
      "True\n",
      "False\n"
     ]
    }
   ],
   "source": [
    "# COMPARISON\n",
    "a = 10\n",
    "b = 20\n",
    "\n",
    "# untuk membandingkan apakah a == b\n",
    "print(a == b)\n",
    "print(a != b)\n",
    "print(a <= b)\n",
    "print(a >= b)"
   ]
  },
  {
   "cell_type": "markdown",
   "id": "95590226",
   "metadata": {},
   "source": [
    "30 == 40"
   ]
  },
  {
   "cell_type": "code",
   "execution_count": 9,
   "id": "76319812",
   "metadata": {},
   "outputs": [
    {
     "data": {
      "text/plain": [
       "True"
      ]
     },
     "execution_count": 9,
     "metadata": {},
     "output_type": "execute_result"
    }
   ],
   "source": [
    "20==20"
   ]
  },
  {
   "cell_type": "code",
   "execution_count": 10,
   "id": "b7c31d76",
   "metadata": {},
   "outputs": [
    {
     "data": {
      "text/plain": [
       "False"
      ]
     },
     "execution_count": 10,
     "metadata": {},
     "output_type": "execute_result"
    }
   ],
   "source": [
    "30 == 70"
   ]
  },
  {
   "cell_type": "code",
   "execution_count": 17,
   "id": "9e13ad1f",
   "metadata": {},
   "outputs": [],
   "source": [
    "# STRING MANIPULATION\n",
    "a = 'abc'\n",
    "b = 'def'\n",
    "c = 'hij'"
   ]
  },
  {
   "cell_type": "code",
   "execution_count": 18,
   "id": "af768bcd",
   "metadata": {},
   "outputs": [
    {
     "name": "stdout",
     "output_type": "stream",
     "text": [
      "abc def\n"
     ]
    }
   ],
   "source": [
    "print(a+\" \"+b)"
   ]
  },
  {
   "cell_type": "code",
   "execution_count": 20,
   "id": "3ded8bf6",
   "metadata": {},
   "outputs": [
    {
     "data": {
      "text/plain": [
       "False"
      ]
     },
     "execution_count": 20,
     "metadata": {},
     "output_type": "execute_result"
    }
   ],
   "source": [
    "s = 'foo'\n",
    "\n",
    "# in untuk mengecek adakah bagian dari string tersebut di kalimatnya\n",
    "s in \"That is good for us\""
   ]
  },
  {
   "cell_type": "code",
   "execution_count": 24,
   "id": "5d076a82",
   "metadata": {},
   "outputs": [
    {
     "data": {
      "text/plain": [
       "False"
      ]
     },
     "execution_count": 24,
     "metadata": {},
     "output_type": "execute_result"
    }
   ],
   "source": [
    "# Nilai karakter pake ascii\n",
    "\n",
    "\"one\" > \"two\""
   ]
  },
  {
   "cell_type": "code",
   "execution_count": 28,
   "id": "5164e885",
   "metadata": {},
   "outputs": [
    {
     "data": {
      "text/plain": [
       "True"
      ]
     },
     "execution_count": 28,
     "metadata": {},
     "output_type": "execute_result"
    }
   ],
   "source": [
    "# Sesuai urutan abjadlah ya\n",
    "\"cc\" > \"bb\""
   ]
  },
  {
   "cell_type": "code",
   "execution_count": 32,
   "id": "8298a193",
   "metadata": {},
   "outputs": [
    {
     "data": {
      "text/plain": [
       "True"
      ]
     },
     "execution_count": 32,
     "metadata": {},
     "output_type": "execute_result"
    }
   ],
   "source": [
    "\"aaaaaa\" < \"aaaab\""
   ]
  },
  {
   "cell_type": "code",
   "execution_count": 31,
   "id": "ce4054d8",
   "metadata": {},
   "outputs": [
    {
     "data": {
      "text/plain": [
       "True"
      ]
     },
     "execution_count": 31,
     "metadata": {},
     "output_type": "execute_result"
    }
   ],
   "source": [
    "\"aaaaaaaaaaaaaaa\" > \"aaaaa\""
   ]
  },
  {
   "cell_type": "code",
   "execution_count": null,
   "id": "cf93e197",
   "metadata": {},
   "outputs": [],
   "source": []
  },
  {
   "cell_type": "code",
   "execution_count": 35,
   "id": "9681510e",
   "metadata": {},
   "outputs": [],
   "source": [
    "dictionary2 = {\n",
    "    'Liverpool': 'Liverpool FC',\n",
    "    'Manchaster': 'Manchaster City',\n",
    "    'London': 'Arsenal FC'\n",
    "}"
   ]
  }
 ],
 "metadata": {
  "kernelspec": {
   "display_name": "Python 3 (ipykernel)",
   "language": "python",
   "name": "python3"
  },
  "language_info": {
   "codemirror_mode": {
    "name": "ipython",
    "version": 3
   },
   "file_extension": ".py",
   "mimetype": "text/x-python",
   "name": "python",
   "nbconvert_exporter": "python",
   "pygments_lexer": "ipython3",
   "version": "3.9.13"
  }
 },
 "nbformat": 4,
 "nbformat_minor": 5
}
