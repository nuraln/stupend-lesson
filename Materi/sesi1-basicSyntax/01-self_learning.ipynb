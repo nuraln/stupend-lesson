{
 "cells": [
  {
   "cell_type": "code",
   "execution_count": 1,
   "id": "f8531c59",
   "metadata": {},
   "outputs": [
    {
     "name": "stdout",
     "output_type": "stream",
     "text": [
      "12136412364567345364376587345984757346573150000000000\n"
     ]
    }
   ],
   "source": [
    "print (12136412364567345364376587345984757346573149999999999 + 1)"
   ]
  },
  {
   "cell_type": "code",
   "execution_count": 2,
   "id": "09cb0db8",
   "metadata": {},
   "outputs": [
    {
     "name": "stdout",
     "output_type": "stream",
     "text": [
      "4.2\n"
     ]
    }
   ],
   "source": [
    "print(4.2)"
   ]
  },
  {
   "cell_type": "code",
   "execution_count": 3,
   "id": "16c0b3f9",
   "metadata": {},
   "outputs": [
    {
     "name": "stdout",
     "output_type": "stream",
     "text": [
      "6.4\n"
     ]
    }
   ],
   "source": [
    "print(2.4 + 4)"
   ]
  },
  {
   "cell_type": "code",
   "execution_count": 5,
   "id": "4c79b33f",
   "metadata": {},
   "outputs": [
    {
     "name": "stdout",
     "output_type": "stream",
     "text": [
      "Anisa\n",
      "<class 'str'>\n"
     ]
    }
   ],
   "source": [
    "print(\"Anisa\")\n",
    "print(type(\"Anisa\"))"
   ]
  },
  {
   "cell_type": "code",
   "execution_count": 6,
   "id": "0dbce4b9",
   "metadata": {},
   "outputs": [
    {
     "name": "stdout",
     "output_type": "stream",
     "text": [
      "\n"
     ]
    }
   ],
   "source": [
    "print('')"
   ]
  },
  {
   "cell_type": "code",
   "execution_count": 8,
   "id": "b6c02513",
   "metadata": {},
   "outputs": [
    {
     "ename": "TypeError",
     "evalue": "unsupported operand type(s) for +: 'float' and 'str'",
     "output_type": "error",
     "traceback": [
      "\u001b[1;31m---------------------------------------------------------------------------\u001b[0m",
      "\u001b[1;31mTypeError\u001b[0m                                 Traceback (most recent call last)",
      "\u001b[1;32m~\\AppData\\Local\\Temp\\ipykernel_3216\\359870984.py\u001b[0m in \u001b[0;36m<module>\u001b[1;34m\u001b[0m\n\u001b[1;32m----> 1\u001b[1;33m \u001b[0mprint\u001b[0m\u001b[1;33m(\u001b[0m\u001b[1;36m2.4\u001b[0m \u001b[1;33m+\u001b[0m \u001b[1;34m\"makan\"\u001b[0m\u001b[1;33m)\u001b[0m\u001b[1;33m\u001b[0m\u001b[1;33m\u001b[0m\u001b[0m\n\u001b[0m",
      "\u001b[1;31mTypeError\u001b[0m: unsupported operand type(s) for +: 'float' and 'str'"
     ]
    }
   ],
   "source": [
    "print(2.4 + \"makan\")"
   ]
  },
  {
   "cell_type": "code",
   "execution_count": 9,
   "id": "b8f5e9a0",
   "metadata": {},
   "outputs": [
    {
     "name": "stdout",
     "output_type": "stream",
     "text": [
      "10000\n",
      "12000\n"
     ]
    }
   ],
   "source": [
    "nasi = 10000\n",
    "print(nasi)\n",
    "nasi = 12000\n",
    "print(nasi)"
   ]
  },
  {
   "cell_type": "code",
   "execution_count": 10,
   "id": "82b8e4ed",
   "metadata": {},
   "outputs": [
    {
     "name": "stdout",
     "output_type": "stream",
     "text": [
      "200 200 200\n"
     ]
    }
   ],
   "source": [
    "a = b = c = 200\n",
    "print(a, b, c)"
   ]
  },
  {
   "cell_type": "code",
   "execution_count": 11,
   "id": "771209df",
   "metadata": {},
   "outputs": [
    {
     "name": "stdout",
     "output_type": "stream",
     "text": [
      "2.5\n",
      "Now I'm string\n"
     ]
    }
   ],
   "source": [
    "var = 2.5\n",
    "print(var)\n",
    "\n",
    "var = \"Now I'm string\"\n",
    "print(var)"
   ]
  },
  {
   "cell_type": "code",
   "execution_count": 12,
   "id": "b3587ed4",
   "metadata": {},
   "outputs": [
    {
     "name": "stdout",
     "output_type": "stream",
     "text": [
      "Zakaria\n",
      "Ngga ada, wkwkwk\n",
      "Nur Anisa\n"
     ]
    }
   ],
   "source": [
    "# Penamaan variabel python\n",
    "# camelCase\n",
    "namaAyahnyaNisa = \"Zakaria\"\n",
    "print(namaAyahnyaNisa)\n",
    "\n",
    "# PascalCase\n",
    "NamaAdiknyaNisa = \"Ngga ada, wkwkwk\"\n",
    "print(NamaAdiknyaNisa)\n",
    "\n",
    "# Snake_case\n",
    "nama_lengkap = \"Nur Anisa\"\n",
    "print(nama_lengkap)"
   ]
  },
  {
   "cell_type": "code",
   "execution_count": 13,
   "id": "43e69540",
   "metadata": {},
   "outputs": [
    {
     "data": {
      "text/plain": [
       "'Assalamualaikum Assalamualaikum Assalamualaikum Assalamualaikum '"
      ]
     },
     "execution_count": 13,
     "metadata": {},
     "output_type": "execute_result"
    }
   ],
   "source": [
    "sapa = \"Assalamualaikum \"\n",
    "sapa * 4"
   ]
  },
  {
   "cell_type": "code",
   "execution_count": null,
   "id": "5e180d38",
   "metadata": {},
   "outputs": [],
   "source": []
  }
 ],
 "metadata": {
  "kernelspec": {
   "display_name": "Python 3 (ipykernel)",
   "language": "python",
   "name": "python3"
  },
  "language_info": {
   "codemirror_mode": {
    "name": "ipython",
    "version": 3
   },
   "file_extension": ".py",
   "mimetype": "text/x-python",
   "name": "python",
   "nbconvert_exporter": "python",
   "pygments_lexer": "ipython3",
   "version": "3.9.13"
  }
 },
 "nbformat": 4,
 "nbformat_minor": 5
}
