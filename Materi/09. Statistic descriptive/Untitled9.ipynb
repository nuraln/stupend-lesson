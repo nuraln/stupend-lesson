{
 "cells": [
  {
   "cell_type": "code",
   "execution_count": 10,
   "id": "4a359f66",
   "metadata": {},
   "outputs": [],
   "source": [
    "import numpy as np\n",
    "import pandas as pd\n",
    "import statistics\n",
    "import math\n",
    "import scipy.stats\n",
    "\n",
    "%matplotlib inline \n",
    "\n",
    "import matplotlib as mpl\n",
    "import matplotlib.pyplot as plt\n",
    "import seaborn as sns"
   ]
  },
  {
   "cell_type": "code",
   "execution_count": 6,
   "id": "3b18f4f0",
   "metadata": {},
   "outputs": [],
   "source": [
    "x = np.random.normal(loc=0, scale=1, size=10)"
   ]
  },
  {
   "cell_type": "markdown",
   "id": "eeb7403c",
   "metadata": {},
   "source": [
    "# Mean Standart"
   ]
  },
  {
   "cell_type": "code",
   "execution_count": 7,
   "id": "74927c37",
   "metadata": {},
   "outputs": [
    {
     "data": {
      "text/plain": [
       "-0.2381995895079493"
      ]
     },
     "execution_count": 7,
     "metadata": {},
     "output_type": "execute_result"
    }
   ],
   "source": [
    "x.mean()"
   ]
  },
  {
   "cell_type": "code",
   "execution_count": 8,
   "id": "f105bf9a",
   "metadata": {},
   "outputs": [
    {
     "data": {
      "text/plain": [
       "-0.278689209598429"
      ]
     },
     "execution_count": 8,
     "metadata": {},
     "output_type": "execute_result"
    }
   ],
   "source": [
    "np.quantile(x, 0.5)"
   ]
  },
  {
   "cell_type": "code",
   "execution_count": 11,
   "id": "8d1a1018",
   "metadata": {},
   "outputs": [
    {
     "data": {
      "text/plain": [
       "-0.2786892095984291"
      ]
     },
     "execution_count": 11,
     "metadata": {},
     "output_type": "execute_result"
    }
   ],
   "source": [
    "pd.Series(x).median()"
   ]
  },
  {
   "cell_type": "markdown",
   "id": "7c90d83d",
   "metadata": {},
   "source": [
    "Modus (Mode)"
   ]
  },
  {
   "cell_type": "code",
   "execution_count": 18,
   "id": "b02469d6",
   "metadata": {},
   "outputs": [],
   "source": [
    "x_mode = [1,2,2,2,3,3,4,4,4,4,4,5,5,5,5,6,6,6,6]"
   ]
  },
  {
   "cell_type": "code",
   "execution_count": 19,
   "id": "3b76f29f",
   "metadata": {},
   "outputs": [
    {
     "data": {
      "text/plain": [
       "4"
      ]
     },
     "execution_count": 19,
     "metadata": {},
     "output_type": "execute_result"
    }
   ],
   "source": [
    "statistics.mode(x_mode)"
   ]
  },
  {
   "cell_type": "code",
   "execution_count": 20,
   "id": "3a0ffac6",
   "metadata": {},
   "outputs": [
    {
     "name": "stderr",
     "output_type": "stream",
     "text": [
      "C:\\Users\\ACER\\AppData\\Local\\Temp\\ipykernel_3816\\481907955.py:1: FutureWarning: Unlike other reduction functions (e.g. `skew`, `kurtosis`), the default behavior of `mode` typically preserves the axis it acts along. In SciPy 1.11.0, this behavior will change: the default value of `keepdims` will become False, the `axis` over which the statistic is taken will be eliminated, and the value None will no longer be accepted. Set `keepdims` to True or False to avoid this warning.\n",
      "  mode_scipy = scipy.stats.mode(x_mode)\n"
     ]
    }
   ],
   "source": [
    "mode_scipy = scipy.stats.mode(x_mode)"
   ]
  },
  {
   "cell_type": "code",
   "execution_count": 21,
   "id": "1fe1b8ca",
   "metadata": {},
   "outputs": [
    {
     "data": {
      "text/plain": [
       "array([4])"
      ]
     },
     "execution_count": 21,
     "metadata": {},
     "output_type": "execute_result"
    }
   ],
   "source": [
    "mode_scipy.mode"
   ]
  },
  {
   "cell_type": "code",
   "execution_count": 22,
   "id": "ded37fa7",
   "metadata": {},
   "outputs": [
    {
     "data": {
      "text/plain": [
       "0    4\n",
       "dtype: int64"
      ]
     },
     "execution_count": 22,
     "metadata": {},
     "output_type": "execute_result"
    }
   ],
   "source": [
    "pd.Series(x_mode).mode()"
   ]
  },
  {
   "cell_type": "markdown",
   "id": "a0fb1c78",
   "metadata": {},
   "source": [
    "# Geometric Mean"
   ]
  },
  {
   "cell_type": "code",
   "execution_count": 34,
   "id": "9327cd9f",
   "metadata": {},
   "outputs": [
    {
     "data": {
      "text/plain": [
       "array([-1.12759566,  0.0959732 , -1.63598995, -0.26095817,  0.53672641,\n",
       "        0.67302643,  0.31041356, -1.18819211,  1.59961917, -1.49591939])"
      ]
     },
     "execution_count": 34,
     "metadata": {},
     "output_type": "execute_result"
    }
   ],
   "source": [
    "y = np.random.normal(loc=0, scale=1, size=10)\n",
    "y\n",
    "# y = np.random.randit(1, 10, 10)"
   ]
  },
  {
   "cell_type": "code",
   "execution_count": 35,
   "id": "e4872745",
   "metadata": {},
   "outputs": [
    {
     "ename": "SyntaxError",
     "evalue": "invalid syntax (2806640620.py, line 3)",
     "output_type": "error",
     "traceback": [
      "\u001b[1;36m  File \u001b[1;32m\"C:\\Users\\ACER\\AppData\\Local\\Temp\\ipykernel_3816\\2806640620.py\"\u001b[1;36m, line \u001b[1;32m3\u001b[0m\n\u001b[1;33m    for xi in y\u001b[0m\n\u001b[1;37m                ^\u001b[0m\n\u001b[1;31mSyntaxError\u001b[0m\u001b[1;31m:\u001b[0m invalid syntax\n"
     ]
    }
   ],
   "source": [
    "gmean = 1\n",
    "\n",
    "for xi in y \n",
    "    gmean += xi\n",
    "    \n",
    "gmean = gmean++(1/len(y))\n",
    "print(gmean)"
   ]
  },
  {
   "cell_type": "markdown",
   "id": "889f9ee7",
   "metadata": {},
   "source": [
    "# Harmonic mean"
   ]
  },
  {
   "cell_type": "code",
   "execution_count": 36,
   "id": "01f686d3",
   "metadata": {},
   "outputs": [
    {
     "name": "stdout",
     "output_type": "stream",
     "text": [
      "0.9280759686919877\n"
     ]
    }
   ],
   "source": [
    "hmean = len(x) / sum(1/i for i in y)\n",
    "print(hmean)"
   ]
  },
  {
   "cell_type": "code",
   "execution_count": null,
   "id": "09e24d16",
   "metadata": {},
   "outputs": [],
   "source": []
  },
  {
   "cell_type": "code",
   "execution_count": 41,
   "id": "81040125",
   "metadata": {},
   "outputs": [
    {
     "name": "stdout",
     "output_type": "stream",
     "text": [
      "-0.2381995895079493\n"
     ]
    },
    {
     "name": "stderr",
     "output_type": "stream",
     "text": [
      "C:\\Users\\ACER\\AppData\\Local\\Temp\\ipykernel_3816\\3233547141.py:1: DeprecationWarning: scipy.mean is deprecated and will be removed in SciPy 2.0.0, use numpy.mean instead\n",
      "  hmean = scipy.mean(x)\n"
     ]
    }
   ],
   "source": [
    "hmean = scipy.mean(x)\n",
    "print(hmean)"
   ]
  },
  {
   "cell_type": "markdown",
   "id": "6b9a0c0a",
   "metadata": {},
   "source": []
  },
  {
   "cell_type": "code",
   "execution_count": 43,
   "id": "637254cd",
   "metadata": {},
   "outputs": [
    {
     "data": {
      "text/plain": [
       "2.3491202428275453"
      ]
     },
     "execution_count": 43,
     "metadata": {},
     "output_type": "execute_result"
    }
   ],
   "source": [
    "range = x.max() - x.min()\n",
    "range"
   ]
  },
  {
   "cell_type": "code",
   "execution_count": 45,
   "id": "89de2c1d",
   "metadata": {},
   "outputs": [
    {
     "data": {
      "text/plain": [
       "2.3491202428275453"
      ]
     },
     "execution_count": 45,
     "metadata": {},
     "output_type": "execute_result"
    }
   ],
   "source": [
    "# Fungsi numpy nya\n",
    "np.ptp(x)"
   ]
  },
  {
   "cell_type": "code",
   "execution_count": 47,
   "id": "fd7fe3a7",
   "metadata": {},
   "outputs": [
    {
     "name": "stdout",
     "output_type": "stream",
     "text": [
      "IQR:  1.2173524762979282\n"
     ]
    }
   ],
   "source": [
    "Q1 = np.quantile(x, 0.25)\n",
    "Q3 = np.quantile(x, .75)\n",
    "\n",
    "print(\"IQR: \", Q3-Q1)"
   ]
  },
  {
   "cell_type": "code",
   "execution_count": 51,
   "id": "450f53e6",
   "metadata": {},
   "outputs": [],
   "source": [
    "# np.quantile(x)"
   ]
  },
  {
   "cell_type": "markdown",
   "id": "8f3c4284",
   "metadata": {},
   "source": [
    "# MAD (Mean Absolute Deviation)\n",
    "Menghitung mean dengan mengabaikan nilai minus, namun ada problemnya yang mungkin merubah struktur dari data kita"
   ]
  },
  {
   "cell_type": "markdown",
   "id": "e6032176",
   "metadata": {},
   "source": [
    "# Varians\n",
    "Menghitung seperti mad, namun nilainya di kuadratkan terlebih dahulu"
   ]
  },
  {
   "cell_type": "markdown",
   "id": "ebcd88a4",
   "metadata": {},
   "source": [
    "# Standart Deviasi \n",
    "Akar dari varians\n",
    "Sering digunakan\n",
    "Lebih baik untuk perhitungan kita"
   ]
  },
  {
   "cell_type": "code",
   "execution_count": 55,
   "id": "a77fd9e9",
   "metadata": {},
   "outputs": [
    {
     "data": {
      "text/plain": [
       "0.7479431542912944"
      ]
     },
     "execution_count": 55,
     "metadata": {},
     "output_type": "execute_result"
    }
   ],
   "source": [
    "# Menghitung standar deviasi\n",
    "x.std()"
   ]
  },
  {
   "cell_type": "code",
   "execution_count": 58,
   "id": "c5853b95",
   "metadata": {},
   "outputs": [
    {
     "data": {
      "text/plain": [
       "1.059418962051211"
      ]
     },
     "execution_count": 58,
     "metadata": {},
     "output_type": "execute_result"
    }
   ],
   "source": [
    "x.var()++0.5"
   ]
  },
  {
   "cell_type": "code",
   "execution_count": 57,
   "id": "f5c49a99",
   "metadata": {},
   "outputs": [
    {
     "data": {
      "text/plain": [
       "0.6812415715427846"
      ]
     },
     "execution_count": 57,
     "metadata": {},
     "output_type": "execute_result"
    }
   ],
   "source": [
    "# Fungsi-fungsi mtk yang agak jarang dipake itu biasanya ada di scipy. Karena lengkap banget scipy\n",
    "\n",
    "scipy.stats.median_abs_deviation(x)"
   ]
  },
  {
   "cell_type": "markdown",
   "id": "14ccbf3c",
   "metadata": {},
   "source": [
    "Menghitung Varians di statstik \n",
    "var /n nya pake n-1 karena menghitung data dari populasi\n",
    "\n",
    "namun kalo di komputer biasanya kita menghitung data sample, \n",
    "sehingga ngga pake /n-1, cuma /n aja \n",
    "\n",
    "(Lebih jelasnya liat rumus varians)\n",
    "\n",
    "kalo numpy pake "
   ]
  }
 ],
 "metadata": {
  "kernelspec": {
   "display_name": "Python 3 (ipykernel)",
   "language": "python",
   "name": "python3"
  },
  "language_info": {
   "codemirror_mode": {
    "name": "ipython",
    "version": 3
   },
   "file_extension": ".py",
   "mimetype": "text/x-python",
   "name": "python",
   "nbconvert_exporter": "python",
   "pygments_lexer": "ipython3",
   "version": "3.9.13"
  }
 },
 "nbformat": 4,
 "nbformat_minor": 5
}
