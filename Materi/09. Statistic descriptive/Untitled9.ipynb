{
 "cells": [
  {
   "cell_type": "markdown",
   "id": "f13f9979",
   "metadata": {},
   "source": [
    "## Pertemuan 9\n",
    "# Statistik Deskriptif\n",
    "\n",
    "=> Central tendency : pusat masa dari data\n",
    "ada beberapa macam \n",
    "1. Mean (rata-rata)\n",
    "   Kalo ada nan, maka meannya itu akan kosong, oleh karenanya pake series karne si series ini bisa mengeksclude nan.\n",
    "   pd.Series(variabel)\n",
    "\n",
    "2. Mediaan (nilai tengah)\n",
    "3. Modus (frekuensi terbanyak)\n",
    "\n",
    "\n",
    "\n",
    "=> Spread/dispersion : (seberapa lebar) persebaran data\n",
    "Cara paling gampang adalah mencari jarak dari titik minimum dan maksimum\n",
    "1. Range \n",
    "   range = max(x) - min(x)\n",
    "\n",
    "2. Quantile \n",
    "   quantile => Q1, Q2, Q3\n",
    "   IQR = Q3 - Q1\n"
   ]
  },
  {
   "cell_type": "code",
   "execution_count": 10,
   "id": "60b72eaa",
   "metadata": {},
   "outputs": [],
   "source": [
    "import numpy as np\n",
    "import pandas as pd\n",
    "import statistics\n",
    "import math\n",
    "import scipy.stats\n",
    "\n",
    "%matplotlib inline \n",
    "\n",
    "import matplotlib as mpl\n",
    "import matplotlib.pyplot as plt\n",
    "import seaborn as sns"
   ]
  },
  {
   "cell_type": "code",
   "execution_count": 6,
   "id": "1e1da14a",
   "metadata": {},
   "outputs": [],
   "source": [
    "x = np.random.normal(loc=0, scale=1, size=10)"
   ]
  },
  {
   "cell_type": "markdown",
   "id": "c990081b",
   "metadata": {},
   "source": [
    "# Mean Standart"
   ]
  },
  {
   "cell_type": "code",
   "execution_count": 7,
   "id": "2e27f0d6",
   "metadata": {},
   "outputs": [
    {
     "data": {
      "text/plain": [
       "-0.2381995895079493"
      ]
     },
     "execution_count": 7,
     "metadata": {},
     "output_type": "execute_result"
    }
   ],
   "source": [
    "x.mean()"
   ]
  },
  {
   "cell_type": "code",
   "execution_count": 8,
   "id": "7b570925",
   "metadata": {},
   "outputs": [
    {
     "data": {
      "text/plain": [
       "-0.278689209598429"
      ]
     },
     "execution_count": 8,
     "metadata": {},
     "output_type": "execute_result"
    }
   ],
   "source": [
    "np.quantile(x, 0.5)"
   ]
  },
  {
   "cell_type": "code",
   "execution_count": 11,
   "id": "23a2c8cb",
   "metadata": {},
   "outputs": [
    {
     "data": {
      "text/plain": [
       "-0.2786892095984291"
      ]
     },
     "execution_count": 11,
     "metadata": {},
     "output_type": "execute_result"
    }
   ],
   "source": [
    "pd.Series(x).median()"
   ]
  },
  {
   "cell_type": "markdown",
   "id": "e3eb7b71",
   "metadata": {},
   "source": [
    "Modus (Mode)"
   ]
  },
  {
   "cell_type": "code",
   "execution_count": 18,
   "id": "5773043d",
   "metadata": {},
   "outputs": [],
   "source": [
    "x_mode = [1,2,2,2,3,3,4,4,4,4,4,5,5,5,5,6,6,6,6]"
   ]
  },
  {
   "cell_type": "code",
   "execution_count": 19,
   "id": "f2323f1c",
   "metadata": {},
   "outputs": [
    {
     "data": {
      "text/plain": [
       "4"
      ]
     },
     "execution_count": 19,
     "metadata": {},
     "output_type": "execute_result"
    }
   ],
   "source": [
    "statistics.mode(x_mode)"
   ]
  },
  {
   "cell_type": "code",
   "execution_count": 20,
   "id": "5e755f15",
   "metadata": {},
   "outputs": [
    {
     "name": "stderr",
     "output_type": "stream",
     "text": [
      "C:\\Users\\ACER\\AppData\\Local\\Temp\\ipykernel_3816\\481907955.py:1: FutureWarning: Unlike other reduction functions (e.g. `skew`, `kurtosis`), the default behavior of `mode` typically preserves the axis it acts along. In SciPy 1.11.0, this behavior will change: the default value of `keepdims` will become False, the `axis` over which the statistic is taken will be eliminated, and the value None will no longer be accepted. Set `keepdims` to True or False to avoid this warning.\n",
      "  mode_scipy = scipy.stats.mode(x_mode)\n"
     ]
    }
   ],
   "source": [
    "mode_scipy = scipy.stats.mode(x_mode)"
   ]
  },
  {
   "cell_type": "code",
   "execution_count": 21,
   "id": "c62fb691",
   "metadata": {},
   "outputs": [
    {
     "data": {
      "text/plain": [
       "array([4])"
      ]
     },
     "execution_count": 21,
     "metadata": {},
     "output_type": "execute_result"
    }
   ],
   "source": [
    "mode_scipy.mode"
   ]
  },
  {
   "cell_type": "code",
   "execution_count": 22,
   "id": "b9923b3e",
   "metadata": {},
   "outputs": [
    {
     "data": {
      "text/plain": [
       "0    4\n",
       "dtype: int64"
      ]
     },
     "execution_count": 22,
     "metadata": {},
     "output_type": "execute_result"
    }
   ],
   "source": [
    "pd.Series(x_mode).mode()"
   ]
  },
  {
   "cell_type": "markdown",
   "id": "eaf12f2e",
   "metadata": {},
   "source": [
    "# Geometric Mean"
   ]
  },
  {
   "cell_type": "code",
   "execution_count": 34,
   "id": "07084c14",
   "metadata": {},
   "outputs": [
    {
     "data": {
      "text/plain": [
       "array([-1.12759566,  0.0959732 , -1.63598995, -0.26095817,  0.53672641,\n",
       "        0.67302643,  0.31041356, -1.18819211,  1.59961917, -1.49591939])"
      ]
     },
     "execution_count": 34,
     "metadata": {},
     "output_type": "execute_result"
    }
   ],
   "source": [
    "y = np.random.normal(loc=0, scale=1, size=10)\n",
    "y\n",
    "# y = np.random.randit(1, 10, 10)"
   ]
  },
  {
   "cell_type": "code",
   "execution_count": 35,
   "id": "4497d0cd",
   "metadata": {},
   "outputs": [
    {
     "ename": "SyntaxError",
     "evalue": "invalid syntax (2806640620.py, line 3)",
     "output_type": "error",
     "traceback": [
      "\u001b[1;36m  File \u001b[1;32m\"C:\\Users\\ACER\\AppData\\Local\\Temp\\ipykernel_3816\\2806640620.py\"\u001b[1;36m, line \u001b[1;32m3\u001b[0m\n\u001b[1;33m    for xi in y\u001b[0m\n\u001b[1;37m                ^\u001b[0m\n\u001b[1;31mSyntaxError\u001b[0m\u001b[1;31m:\u001b[0m invalid syntax\n"
     ]
    }
   ],
   "source": [
    "gmean = 1\n",
    "\n",
    "for xi in y \n",
    "    gmean += xi\n",
    "    \n",
    "gmean = gmean++(1/len(y))\n",
    "print(gmean)"
   ]
  },
  {
   "cell_type": "markdown",
   "id": "4aa80b0c",
   "metadata": {},
   "source": [
    "# Harmonic mean"
   ]
  },
  {
   "cell_type": "code",
   "execution_count": 36,
   "id": "fadd68a1",
   "metadata": {},
   "outputs": [
    {
     "name": "stdout",
     "output_type": "stream",
     "text": [
      "0.9280759686919877\n"
     ]
    }
   ],
   "source": [
    "hmean = len(x) / sum(1/i for i in y)\n",
    "print(hmean)"
   ]
  },
  {
   "cell_type": "code",
   "execution_count": null,
   "id": "6a0f4ccd",
   "metadata": {},
   "outputs": [],
   "source": []
  },
  {
   "cell_type": "code",
   "execution_count": 41,
   "id": "8787d6a6",
   "metadata": {},
   "outputs": [
    {
     "name": "stdout",
     "output_type": "stream",
     "text": [
      "-0.2381995895079493\n"
     ]
    },
    {
     "name": "stderr",
     "output_type": "stream",
     "text": [
      "C:\\Users\\ACER\\AppData\\Local\\Temp\\ipykernel_3816\\3233547141.py:1: DeprecationWarning: scipy.mean is deprecated and will be removed in SciPy 2.0.0, use numpy.mean instead\n",
      "  hmean = scipy.mean(x)\n"
     ]
    }
   ],
   "source": [
    "hmean = scipy.mean(x)\n",
    "print(hmean)"
   ]
  },
  {
   "cell_type": "markdown",
   "id": "26ce5434",
   "metadata": {},
   "source": []
  },
  {
   "cell_type": "code",
   "execution_count": 43,
   "id": "4a0b619e",
   "metadata": {},
   "outputs": [
    {
     "data": {
      "text/plain": [
       "2.3491202428275453"
      ]
     },
     "execution_count": 43,
     "metadata": {},
     "output_type": "execute_result"
    }
   ],
   "source": [
    "range = x.max() - x.min()\n",
    "range"
   ]
  },
  {
   "cell_type": "code",
   "execution_count": 45,
   "id": "490cc8c1",
   "metadata": {},
   "outputs": [
    {
     "data": {
      "text/plain": [
       "2.3491202428275453"
      ]
     },
     "execution_count": 45,
     "metadata": {},
     "output_type": "execute_result"
    }
   ],
   "source": [
    "# Fungsi numpy nya\n",
    "np.ptp(x)"
   ]
  },
  {
   "cell_type": "code",
   "execution_count": 47,
   "id": "653723df",
   "metadata": {},
   "outputs": [
    {
     "name": "stdout",
     "output_type": "stream",
     "text": [
      "IQR:  1.2173524762979282\n"
     ]
    }
   ],
   "source": [
    "Q1 = np.quantile(x, 0.25)\n",
    "Q3 = np.quantile(x, .75)\n",
    "\n",
    "print(\"IQR: \", Q3-Q1)"
   ]
  },
  {
   "cell_type": "code",
   "execution_count": 51,
   "id": "1c68ebb8",
   "metadata": {},
   "outputs": [],
   "source": [
    "# np.quantile(x)"
   ]
  },
  {
   "cell_type": "markdown",
   "id": "78d5f57a",
   "metadata": {},
   "source": [
    "# MAD (Mean Absolute Deviation)\n",
    "Menghitung mean dengan mengabaikan nilai minus, namun ada problemnya yang mungkin merubah struktur dari data kita"
   ]
  },
  {
   "cell_type": "markdown",
   "id": "df3d3073",
   "metadata": {},
   "source": [
    "# Varians\n",
    "Menghitung seperti mad, namun nilainya di kuadratkan terlebih dahulu"
   ]
  },
  {
   "cell_type": "markdown",
   "id": "e32243a9",
   "metadata": {},
   "source": [
    "# Standart Deviasi \n",
    "Akar dari varians\n",
    "Sering digunakan\n",
    "Lebih baik untuk perhitungan kita"
   ]
  },
  {
   "cell_type": "code",
   "execution_count": 55,
   "id": "2c3b070e",
   "metadata": {},
   "outputs": [
    {
     "data": {
      "text/plain": [
       "0.7479431542912944"
      ]
     },
     "execution_count": 55,
     "metadata": {},
     "output_type": "execute_result"
    }
   ],
   "source": [
    "# Menghitung standar deviasi\n",
    "x.std()"
   ]
  },
  {
   "cell_type": "code",
   "execution_count": 58,
   "id": "33bf64d9",
   "metadata": {},
   "outputs": [
    {
     "data": {
      "text/plain": [
       "1.059418962051211"
      ]
     },
     "execution_count": 58,
     "metadata": {},
     "output_type": "execute_result"
    }
   ],
   "source": [
    "x.var()++0.5"
   ]
  },
  {
   "cell_type": "code",
   "execution_count": 57,
   "id": "f06a61a1",
   "metadata": {},
   "outputs": [
    {
     "data": {
      "text/plain": [
       "0.6812415715427846"
      ]
     },
     "execution_count": 57,
     "metadata": {},
     "output_type": "execute_result"
    }
   ],
   "source": [
    "# Fungsi-fungsi mtk yang agak jarang dipake itu biasanya ada di scipy. Karena lengkap banget scipy\n",
    "\n",
    "scipy.stats.median_abs_deviation(x)"
   ]
  },
  {
   "cell_type": "markdown",
   "id": "792ee36b",
   "metadata": {},
   "source": [
    "Menghitung Varians di statstik \n",
    "var /n nya pake n-1 karena menghitung data dari populasi\n",
    "\n",
    "namun kalo di komputer biasanya kita menghitung data sample, \n",
    "sehingga ngga pake /n-1, cuma /n aja \n",
    "\n",
    "(Lebih jelasnya liat rumus varians)\n",
    "\n",
    "kalo numpy pake n-1\n",
    "kalo pandas pake n aja"
   ]
  },
  {
   "cell_type": "code",
   "execution_count": null,
   "id": "f15fefac",
   "metadata": {},
   "outputs": [],
   "source": []
  },
  {
   "cell_type": "markdown",
   "id": "f243fb0b",
   "metadata": {},
   "source": [
    "# Skewness\n",
    "Mengukur seberapa berat sebelah data kita\n",
    "berat ke kiri atau berat ke kanan gituu\n",
    "\n",
    "Contohnya kayak grafik gaji karyawan, semakin ke kanan semakin sedikit\n",
    "\n",
    "Visualisasinya itu pake logaritma yah, dan menggunakan garis lurus lebih enak, karena mata manusia lebih mudah melihat garis lurus"
   ]
  },
  {
   "cell_type": "code",
   "execution_count": 60,
   "id": "d93e170c",
   "metadata": {},
   "outputs": [
    {
     "data": {
      "text/plain": [
       "array([ 0.2316247 , -0.10152079,  0.89896943,  0.00297438,  0.64537565,\n",
       "        0.71339205,  0.73523609,  0.70531899,  0.72797126,  2.65659316])"
      ]
     },
     "execution_count": 60,
     "metadata": {},
     "output_type": "execute_result"
    }
   ],
   "source": [
    "x = scipy.stats.skewnorm.rvs(a=3,size=10)\n",
    "x"
   ]
  },
  {
   "cell_type": "code",
   "execution_count": 61,
   "id": "4ca1ac05",
   "metadata": {},
   "outputs": [
    {
     "data": {
      "text/plain": [
       "<seaborn.axisgrid.FacetGrid at 0x28615f4a850>"
      ]
     },
     "execution_count": 61,
     "metadata": {},
     "output_type": "execute_result"
    },
    {
     "data": {
      "image/png": "[encoded data removed]",
      "text/plain": [
       "<Figure size 500x500 with 1 Axes>"
      ]
     },
     "metadata": {},
     "output_type": "display_data"
    }
   ],
   "source": [
    "sns.displot(x)"
   ]
  },
  {
   "cell_type": "code",
   "execution_count": 66,
   "id": "04db64ec",
   "metadata": {},
   "outputs": [
    {
     "data": {
      "text/plain": [
       "<seaborn.axisgrid.FacetGrid at 0x28615f4a940>"
      ]
     },
     "execution_count": 66,
     "metadata": {},
     "output_type": "execute_result"
    },
    {
     "data": {
      "image/png": "[encoded data removed]",
      "text/plain": [
       "<Figure size 500x500 with 1 Axes>"
      ]
     },
     "metadata": {},
     "output_type": "display_data"
    }
   ],
   "source": [
    "x2 = scipy.stats.skewnorm.rvs(a=10,size=10000)\n",
    "sns.displot(x2)"
   ]
  },
  {
   "cell_type": "code",
   "execution_count": 67,
   "id": "3d3d714c",
   "metadata": {},
   "outputs": [
    {
     "data": {
      "text/plain": [
       "0.9340585508809514"
      ]
     },
     "execution_count": 67,
     "metadata": {},
     "output_type": "execute_result"
    }
   ],
   "source": [
    "scipy.stats.skew(x2)"
   ]
  },
  {
   "cell_type": "code",
   "execution_count": 69,
   "id": "69b6f7d5",
   "metadata": {},
   "outputs": [
    {
     "name": "stderr",
     "output_type": "stream",
     "text": [
      "C:\\Users\\ACER\\AppData\\Local\\Temp\\ipykernel_3816\\349361513.py:1: DeprecationWarning: scipy.mean is deprecated and will be removed in SciPy 2.0.0, use numpy.mean instead\n",
      "  scipy.mean(x2)\n"
     ]
    },
    {
     "data": {
      "text/plain": [
       "0.7946937680436172"
      ]
     },
     "execution_count": 69,
     "metadata": {},
     "output_type": "execute_result"
    }
   ],
   "source": [
    "scipy.mean(x2)"
   ]
  },
  {
   "cell_type": "code",
   "execution_count": 71,
   "id": "8c8cbce8",
   "metadata": {},
   "outputs": [
    {
     "data": {
      "text/plain": [
       "0.7946937680436172"
      ]
     },
     "execution_count": 71,
     "metadata": {},
     "output_type": "execute_result"
    }
   ],
   "source": [
    "np.mean(x2)"
   ]
  },
  {
   "cell_type": "markdown",
   "id": "bfab0323",
   "metadata": {},
   "source": [
    "# Kurtosis\n",
    "Untuk mengetahui seberapa landai atau tinggi kurvanya\n",
    "Misal untuk melihat pertumbuhan saham gitu, "
   ]
  },
  {
   "cell_type": "markdown",
   "id": "a5a3b5bc",
   "metadata": {},
   "source": [
    "## Mesokurtic\n",
    "    Yang membedakan adalah seberapa landai fungsi kita dengan yang lainnya\n",
    "### platyeustic (-)\n",
    "### Liptokustic (+)"
   ]
  },
  {
   "cell_type": "code",
   "execution_count": 73,
   "id": "612d708f",
   "metadata": {},
   "outputs": [
    {
     "data": {
      "text/plain": [
       "<seaborn.axisgrid.FacetGrid at 0x2861857dd00>"
      ]
     },
     "execution_count": 73,
     "metadata": {},
     "output_type": "execute_result"
    },
    {
     "data": {
      "image/png": "[encoded data removed]",
      "text/plain": [
       "<Figure size 500x500 with 1 Axes>"
      ]
     },
     "metadata": {},
     "output_type": "display_data"
    }
   ],
   "source": [
    "sns.displot(x2)"
   ]
  },
  {
   "cell_type": "code",
   "execution_count": 72,
   "id": "dfe38c55",
   "metadata": {},
   "outputs": [
    {
     "data": {
      "text/plain": [
       "0.7396395278618768"
      ]
     },
     "execution_count": 72,
     "metadata": {},
     "output_type": "execute_result"
    }
   ],
   "source": [
    "scipy.stats.kurtosis(x2)"
   ]
  },
  {
   "cell_type": "markdown",
   "id": "b8ea04db",
   "metadata": {},
   "source": [
    "## Melihat fungsi-fungsi pake SciPy"
   ]
  },
  {
   "cell_type": "code",
   "execution_count": 74,
   "id": "7f075d1f",
   "metadata": {},
   "outputs": [],
   "source": [
    "result = scipy.stats.describe(x, ddof=1, bias=False)"
   ]
  },
  {
   "cell_type": "code",
   "execution_count": 75,
   "id": "549290d8",
   "metadata": {},
   "outputs": [
    {
     "data": {
      "text/plain": [
       "DescribeResult(nobs=10, minmax=(-0.10152079075382836, 2.6565931605973883), mean=0.7215934912871292, variance=0.579561554847286, skewness=1.9528824605008877, kurtosis=5.279711159708295)"
      ]
     },
     "execution_count": 75,
     "metadata": {},
     "output_type": "execute_result"
    }
   ],
   "source": [
    "result"
   ]
  },
  {
   "cell_type": "markdown",
   "id": "2ab480a0",
   "metadata": {},
   "source": [
    "## Melihat fungsi-fungsi pake Pandas"
   ]
  },
  {
   "cell_type": "code",
   "execution_count": 76,
   "id": "2ad97569",
   "metadata": {},
   "outputs": [
    {
     "data": {
      "text/plain": [
       "count    10.000000\n",
       "mean      0.721593\n",
       "std       0.761289\n",
       "min      -0.101521\n",
       "25%       0.335062\n",
       "50%       0.709356\n",
       "75%       0.733420\n",
       "max       2.656593\n",
       "dtype: float64"
      ]
     },
     "execution_count": 76,
     "metadata": {},
     "output_type": "execute_result"
    }
   ],
   "source": [
    "pd.Series(x).describe()"
   ]
  },
  {
   "cell_type": "markdown",
   "id": "b3b8e693",
   "metadata": {},
   "source": [
    "# Correlation\n",
    "Untuk mengetahui hubungan antara x dan y, apakah x naik y naik (correlation>0), atau x naik y turun (correlation<0) atau bahkan mungkin x dan y itu ngga ada hubungannya wkwkwk \n",
    "\n",
    "Sama aja seperti menghitung varians untuk dua sumber data yang berbeda\n",
    "\n",
    "Ada dua statistic untuk ngitungnya\n",
    "1. Covarians (modiv dari rumus varians) ---Google aja, males ngetik rumus\n"
   ]
  },
  {
   "cell_type": "code",
   "execution_count": 81,
   "id": "d7758b99",
   "metadata": {},
   "outputs": [],
   "source": [
    "x_corr = np.random.random(size=100)\n",
    "\n",
    "y1_corr = np.random.random(size=100)\n",
    "\n",
    "y2_corr = 3 - 2*y1_corr + np.random.random()\n",
    "y2_corr = 3 + 2*y1_corr + np.random.random()"
   ]
  },
  {
   "cell_type": "code",
   "execution_count": 82,
   "id": "8fd241ac",
   "metadata": {},
   "outputs": [
    {
     "data": {
      "text/plain": [
       "<matplotlib.collections.PathCollection at 0x2861973bb20>"
      ]
     },
     "execution_count": 82,
     "metadata": {},
     "output_type": "execute_result"
    },
    {
     "data": {
      "image/png": "[encoded data removed]",
      "text/plain": [
       "<Figure size 640x480 with 1 Axes>"
      ]
     },
     "metadata": {},
     "output_type": "display_data"
    }
   ],
   "source": [
    "plt.scatter(x=x_corr, y=y2_corr)"
   ]
  },
  {
   "cell_type": "markdown",
   "id": "f5f71946",
   "metadata": {},
   "source": [
    "## Covarians\n",
    "Nilai covarians ini tergantung dari magnitude masing-masing data, ngga standar gitu. Cara ngakalinnya pake corellation coefisien(r)\n",
    "\n",
    "r = covxy/(stdx*stdy)\n",
    "\n",
    "r ini menghasilkan bilangan dari -1 hingga 1,\n",
    "Semakin dekat ke nol semakin x dan y itu tidak berkorelasi"
   ]
  },
  {
   "cell_type": "code",
   "execution_count": 84,
   "id": "a5da7a43",
   "metadata": {},
   "outputs": [
    {
     "data": {
      "text/plain": [
       "array([0.97356144, 0.89378101, 0.64218647, 0.94808436, 0.91624848,\n",
       "       0.88777977, 0.81920429, 0.74697989, 0.96421189, 0.56664418,\n",
       "       0.8083061 , 0.63569975, 0.87523188, 0.79443743, 0.9940964 ,\n",
       "       0.86055008, 0.95262972, 0.9130835 , 0.99771059, 0.97767768,\n",
       "       0.65624351, 0.88587194, 0.6901449 , 0.97611   , 0.61341003,\n",
       "       0.97074426, 0.9958404 , 0.83073742, 0.68512094, 0.98366819,\n",
       "       0.91681114, 0.94564273, 0.85826188, 0.80819068, 0.59880904,\n",
       "       0.70728215, 0.89848601, 0.59105002, 0.98924451, 0.98348543,\n",
       "       0.60100683, 0.61909938, 0.99445486, 0.7366309 , 0.75996899,\n",
       "       0.76438844, 0.99972492, 0.90188892, 0.96071263, 0.8620956 ,\n",
       "       0.96333375, 0.99447551, 0.95393631, 0.74831875, 0.7073885 ,\n",
       "       0.99591877, 0.57080506, 0.82961933, 0.97140567, 0.66437553,\n",
       "       0.7956642 , 0.98164925, 0.81060429, 0.55711533, 0.87685538,\n",
       "       0.90454397, 0.86064614, 0.89618209, 0.54031211, 0.56424484,\n",
       "       0.93457155, 0.55263264, 0.60274957, 0.66840754, 0.94256302,\n",
       "       0.55965826, 0.94878214, 0.98481958, 0.70949367, 0.99382737,\n",
       "       0.87765064, 0.87402904, 0.6164246 , 0.88710572, 0.97973128,\n",
       "       0.90111207, 0.64729707, 0.91716924, 0.74102586, 0.98353571,\n",
       "       0.99243212, 0.99671887, 0.90952474, 0.81521856, 0.64835788,\n",
       "       0.91783129, 0.98598701, 0.99946051, 0.66165646, 0.85563892])"
      ]
     },
     "execution_count": 84,
     "metadata": {},
     "output_type": "execute_result"
    }
   ],
   "source": [
    "np.cos(x_corr, y1_corr)"
   ]
  },
  {
   "cell_type": "code",
   "execution_count": 85,
   "id": "0aff4b80",
   "metadata": {},
   "outputs": [
    {
     "data": {
      "text/plain": [
       "0.08312207550506362"
      ]
     },
     "execution_count": 85,
     "metadata": {},
     "output_type": "execute_result"
    }
   ],
   "source": [
    "x_corr.var(ddof=1)"
   ]
  },
  {
   "cell_type": "code",
   "execution_count": 91,
   "id": "b66cf773",
   "metadata": {},
   "outputs": [],
   "source": [
    "# pd.Series(x_corr)cov(pd.Series(y1_corr))"
   ]
  },
  {
   "cell_type": "code",
   "execution_count": 93,
   "id": "54e38e47",
   "metadata": {},
   "outputs": [],
   "source": [
    "x_corr = np.random.random(size=100)\n",
    "\n",
    "y1_corr = np.random.random(size=100)\n",
    "\n",
    "y2_corr = 3 - 2*y1_corr + np.random.random(size=100)\n",
    "y2_corr = 3 + 2*y1_corr + np.random.random(size=100)"
   ]
  },
  {
   "cell_type": "code",
   "execution_count": 96,
   "id": "80bcc57e",
   "metadata": {},
   "outputs": [
    {
     "data": {
      "text/plain": [
       "array([[ 0.08113143, -0.03326351],\n",
       "       [-0.03326351,  0.37211922]])"
      ]
     },
     "execution_count": 96,
     "metadata": {},
     "output_type": "execute_result"
    }
   ],
   "source": [
    "cov_xy = np.cov(x_corr, y2_corr)\n",
    "cov_xy"
   ]
  },
  {
   "cell_type": "code",
   "execution_count": 97,
   "id": "12ac81db",
   "metadata": {},
   "outputs": [
    {
     "data": {
      "text/plain": [
       "array([[ 0.47164834, -0.19337364],\n",
       "       [-0.19337364,  2.16327285]])"
      ]
     },
     "execution_count": 97,
     "metadata": {},
     "output_type": "execute_result"
    }
   ],
   "source": [
    "cov_xy / (x_corr.std()*y2_corr.std())"
   ]
  },
  {
   "cell_type": "code",
   "execution_count": 100,
   "id": "32ad6c1e",
   "metadata": {},
   "outputs": [
    {
     "data": {
      "text/plain": [
       "array([[ 0.46693186, -0.19143991],\n",
       "       [-0.19143991,  2.14164012]])"
      ]
     },
     "execution_count": 100,
     "metadata": {},
     "output_type": "execute_result"
    }
   ],
   "source": [
    "cov_xy /(x_corr.std(ddof=1)*y2_corr.std(ddof=1))"
   ]
  },
  {
   "cell_type": "code",
   "execution_count": 102,
   "id": "8febbaf2",
   "metadata": {},
   "outputs": [
    {
     "data": {
      "text/plain": [
       "array([[ 1.        , -0.19143991],\n",
       "       [-0.19143991,  1.        ]])"
      ]
     },
     "execution_count": 102,
     "metadata": {},
     "output_type": "execute_result"
    }
   ],
   "source": [
    "# Corr pake numpy\n",
    "np.corrcoef(x_corr, y2_corr)"
   ]
  },
  {
   "cell_type": "code",
   "execution_count": 104,
   "id": "791b66d6",
   "metadata": {},
   "outputs": [
    {
     "data": {
      "text/plain": [
       "-0.19143990533409133"
      ]
     },
     "execution_count": 104,
     "metadata": {},
     "output_type": "execute_result"
    }
   ],
   "source": [
    "# Corr pake scipy\n",
    "scipy.stats.linregress(x_corr, y2_corr).rvalue"
   ]
  },
  {
   "cell_type": "code",
   "execution_count": 105,
   "id": "9c8f0728",
   "metadata": {},
   "outputs": [
    {
     "data": {
      "text/plain": [
       "array([0.85797522, 0.76571623, 0.34893785, 0.18369917, 0.37640413,\n",
       "       0.25683755, 0.03580466, 0.68529833, 0.69307188, 0.38373819,\n",
       "       0.03959461, 0.19407223, 0.28638354, 0.39605053, 0.01549018,\n",
       "       0.82770269, 0.34200147, 0.2513206 , 0.95592016, 0.87823257,\n",
       "       0.18283851, 0.00547848, 0.88167079, 0.53746064, 0.14479923,\n",
       "       0.16911026, 0.5932648 , 0.04664086, 0.35461784, 0.2923473 ,\n",
       "       0.2509708 , 0.66248231, 0.71463094, 0.56193904, 0.23218219,\n",
       "       0.75949533, 0.20109616, 0.51447376, 0.84287555, 0.56521271,\n",
       "       0.34489781, 0.14638176, 0.09160959, 0.08378293, 0.36855856,\n",
       "       0.64735432, 0.74445154, 0.97515608, 0.87694239, 0.6088158 ,\n",
       "       0.38366091, 0.30053754, 0.02113708, 0.09806046, 0.28500855,\n",
       "       0.11081265, 0.88318054, 0.32327979, 0.02937141, 0.11562921,\n",
       "       0.11264974, 0.96043467, 0.25550583, 0.97683277, 0.64047419,\n",
       "       0.72175001, 0.95136352, 0.18631026, 0.33419853, 0.73823443,\n",
       "       0.65446433, 0.33433427, 0.63091078, 0.03627193, 0.2829919 ,\n",
       "       0.40100031, 0.72150735, 0.00612728, 0.25380508, 0.57335507,\n",
       "       0.3028182 , 0.7114714 , 0.31473727, 0.80596037, 0.49843767,\n",
       "       0.14778433, 0.7157585 , 0.33381105, 0.49390678, 0.59656261,\n",
       "       0.54565619, 0.88005944, 0.10134158, 0.64201682, 0.66296163,\n",
       "       0.28552955, 0.73125059, 0.65343902, 0.65248032, 0.19346005])"
      ]
     },
     "execution_count": 105,
     "metadata": {},
     "output_type": "execute_result"
    }
   ],
   "source": [
    "x_corr"
   ]
  },
  {
   "cell_type": "markdown",
   "id": "c12fed8c",
   "metadata": {},
   "source": [
    "## Contoh pake data 3 dimensi"
   ]
  },
  {
   "cell_type": "code",
   "execution_count": 111,
   "id": "e5af871d",
   "metadata": {},
   "outputs": [
    {
     "data": {
      "text/html": [
       "<div>\n",
       "<style scoped>\n",
       "    .dataframe tbody tr th:only-of-type {\n",
       "        vertical-align: middle;\n",
       "    }\n",
       "\n",
       "    .dataframe tbody tr th {\n",
       "        vertical-align: top;\n",
       "    }\n",
       "\n",
       "    .dataframe thead th {\n",
       "        text-align: right;\n",
       "    }\n",
       "</style>\n",
       "<table border=\"1\" class=\"dataframe\">\n",
       "  <thead>\n",
       "    <tr style=\"text-align: right;\">\n",
       "      <th></th>\n",
       "      <th>A</th>\n",
       "      <th>B</th>\n",
       "      <th>C</th>\n",
       "    </tr>\n",
       "  </thead>\n",
       "  <tbody>\n",
       "    <tr>\n",
       "      <th>0</th>\n",
       "      <td>0.857975</td>\n",
       "      <td>3.665832</td>\n",
       "      <td>0.291697</td>\n",
       "    </tr>\n",
       "    <tr>\n",
       "      <th>1</th>\n",
       "      <td>0.765716</td>\n",
       "      <td>5.011995</td>\n",
       "      <td>0.817296</td>\n",
       "    </tr>\n",
       "    <tr>\n",
       "      <th>2</th>\n",
       "      <td>0.348938</td>\n",
       "      <td>4.796618</td>\n",
       "      <td>0.753879</td>\n",
       "    </tr>\n",
       "    <tr>\n",
       "      <th>3</th>\n",
       "      <td>0.183699</td>\n",
       "      <td>4.693494</td>\n",
       "      <td>0.706723</td>\n",
       "    </tr>\n",
       "    <tr>\n",
       "      <th>4</th>\n",
       "      <td>0.376404</td>\n",
       "      <td>3.604092</td>\n",
       "      <td>0.021470</td>\n",
       "    </tr>\n",
       "    <tr>\n",
       "      <th>...</th>\n",
       "      <td>...</td>\n",
       "      <td>...</td>\n",
       "      <td>...</td>\n",
       "    </tr>\n",
       "    <tr>\n",
       "      <th>95</th>\n",
       "      <td>0.285530</td>\n",
       "      <td>4.418008</td>\n",
       "      <td>0.490045</td>\n",
       "    </tr>\n",
       "    <tr>\n",
       "      <th>96</th>\n",
       "      <td>0.731251</td>\n",
       "      <td>5.159870</td>\n",
       "      <td>0.917336</td>\n",
       "    </tr>\n",
       "    <tr>\n",
       "      <th>97</th>\n",
       "      <td>0.653439</td>\n",
       "      <td>3.736932</td>\n",
       "      <td>0.148655</td>\n",
       "    </tr>\n",
       "    <tr>\n",
       "      <th>98</th>\n",
       "      <td>0.652480</td>\n",
       "      <td>3.664591</td>\n",
       "      <td>0.258522</td>\n",
       "    </tr>\n",
       "    <tr>\n",
       "      <th>99</th>\n",
       "      <td>0.193460</td>\n",
       "      <td>3.993015</td>\n",
       "      <td>0.339445</td>\n",
       "    </tr>\n",
       "  </tbody>\n",
       "</table>\n",
       "<p>100 rows × 3 columns</p>\n",
       "</div>"
      ],
      "text/plain": [
       "           A         B         C\n",
       "0   0.857975  3.665832  0.291697\n",
       "1   0.765716  5.011995  0.817296\n",
       "2   0.348938  4.796618  0.753879\n",
       "3   0.183699  4.693494  0.706723\n",
       "4   0.376404  3.604092  0.021470\n",
       "..       ...       ...       ...\n",
       "95  0.285530  4.418008  0.490045\n",
       "96  0.731251  5.159870  0.917336\n",
       "97  0.653439  3.736932  0.148655\n",
       "98  0.652480  3.664591  0.258522\n",
       "99  0.193460  3.993015  0.339445\n",
       "\n",
       "[100 rows x 3 columns]"
      ]
     },
     "execution_count": 111,
     "metadata": {},
     "output_type": "execute_result"
    }
   ],
   "source": [
    "df = pd.DataFrame(\n",
    "    {\"A\" : x_corr,\n",
    "    \"B\" : y2_corr,\n",
    "     \"C\" : y1_corr\n",
    "    }\n",
    ")\n",
    "df"
   ]
  },
  {
   "cell_type": "code",
   "execution_count": 109,
   "id": "3a62bc60",
   "metadata": {},
   "outputs": [
    {
     "name": "stderr",
     "output_type": "stream",
     "text": [
      "C:\\Users\\ACER\\anaconda3\\lib\\site-packages\\numpy\\core\\fromnumeric.py:3438: FutureWarning: In a future version, DataFrame.mean(axis=None) will return a scalar mean over the entire DataFrame. To retain the old behavior, use 'frame.mean(axis=0)' or just 'frame.mean()'\n",
      "  return mean(axis=axis, dtype=dtype, out=out, **kwargs)\n"
     ]
    },
    {
     "data": {
      "text/plain": [
       "A    0.447684\n",
       "B    4.386045\n",
       "C    0.463306\n",
       "dtype: float64"
      ]
     },
     "execution_count": 109,
     "metadata": {},
     "output_type": "execute_result"
    }
   ],
   "source": [
    "np.mean(df)"
   ]
  },
  {
   "cell_type": "code",
   "execution_count": 110,
   "id": "aa907d89",
   "metadata": {},
   "outputs": [
    {
     "data": {
      "text/plain": [
       "0     1.605168\n",
       "1     2.198336\n",
       "2     1.966478\n",
       "3     1.861305\n",
       "4     1.333989\n",
       "        ...   \n",
       "95    1.731194\n",
       "96    2.269486\n",
       "97    1.513009\n",
       "98    1.525198\n",
       "99    1.508640\n",
       "Length: 100, dtype: float64"
      ]
     },
     "execution_count": 110,
     "metadata": {},
     "output_type": "execute_result"
    }
   ],
   "source": [
    "np.mean(df, axis=1)"
   ]
  },
  {
   "cell_type": "code",
   "execution_count": 112,
   "id": "df1db0af",
   "metadata": {},
   "outputs": [
    {
     "data": {
      "text/plain": [
       "A    0.380033\n",
       "B    4.368580\n",
       "C    0.425249\n",
       "dtype: float64"
      ]
     },
     "execution_count": 112,
     "metadata": {},
     "output_type": "execute_result"
    }
   ],
   "source": [
    "df.median()"
   ]
  },
  {
   "cell_type": "code",
   "execution_count": 115,
   "id": "40cc0b03",
   "metadata": {},
   "outputs": [
    {
     "data": {
      "text/plain": [
       "array([0.31146589, 4.34396884, 0.35617872])"
      ]
     },
     "execution_count": 115,
     "metadata": {},
     "output_type": "execute_result"
    }
   ],
   "source": [
    "scipy.stats.gmean(df, axis=0)"
   ]
  },
  {
   "cell_type": "code",
   "execution_count": 116,
   "id": "cd7c9bfe",
   "metadata": {},
   "outputs": [
    {
     "data": {
      "text/plain": [
       "array([0.11391781, 4.3019345 , 0.18239734])"
      ]
     },
     "execution_count": 116,
     "metadata": {},
     "output_type": "execute_result"
    }
   ],
   "source": [
    "scipy.stats.hmean(df, axis=0)"
   ]
  },
  {
   "cell_type": "code",
   "execution_count": 117,
   "id": "ca7a4e9c",
   "metadata": {},
   "outputs": [
    {
     "data": {
      "text/plain": [
       "DescribeResult(nobs=100, minmax=(array([0.00547848, 3.16828045, 0.00641198]), array([0.97683277, 5.71326721, 0.99716295])), mean=array([0.44768434, 4.38604496, 0.46330567]), variance=array([0.08113143, 0.37211922, 0.0747497 ]), skewness=array([0.18381365, 0.15582963, 0.25549232]), kurtosis=array([-1.18428269, -0.78060662, -1.025922  ]))"
      ]
     },
     "execution_count": 117,
     "metadata": {},
     "output_type": "execute_result"
    }
   ],
   "source": [
    "scipy.stats.describe(df)"
   ]
  },
  {
   "cell_type": "code",
   "execution_count": 119,
   "id": "6a637042",
   "metadata": {},
   "outputs": [
    {
     "data": {
      "text/html": [
       "<div>\n",
       "<style scoped>\n",
       "    .dataframe tbody tr th:only-of-type {\n",
       "        vertical-align: middle;\n",
       "    }\n",
       "\n",
       "    .dataframe tbody tr th {\n",
       "        vertical-align: top;\n",
       "    }\n",
       "\n",
       "    .dataframe thead th {\n",
       "        text-align: right;\n",
       "    }\n",
       "</style>\n",
       "<table border=\"1\" class=\"dataframe\">\n",
       "  <thead>\n",
       "    <tr style=\"text-align: right;\">\n",
       "      <th></th>\n",
       "      <th>A</th>\n",
       "      <th>B</th>\n",
       "      <th>C</th>\n",
       "    </tr>\n",
       "  </thead>\n",
       "  <tbody>\n",
       "    <tr>\n",
       "      <th>A</th>\n",
       "      <td>1.000000</td>\n",
       "      <td>-0.191440</td>\n",
       "      <td>-0.123183</td>\n",
       "    </tr>\n",
       "    <tr>\n",
       "      <th>B</th>\n",
       "      <td>-0.191440</td>\n",
       "      <td>1.000000</td>\n",
       "      <td>0.892085</td>\n",
       "    </tr>\n",
       "    <tr>\n",
       "      <th>C</th>\n",
       "      <td>-0.123183</td>\n",
       "      <td>0.892085</td>\n",
       "      <td>1.000000</td>\n",
       "    </tr>\n",
       "  </tbody>\n",
       "</table>\n",
       "</div>"
      ],
      "text/plain": [
       "          A         B         C\n",
       "A  1.000000 -0.191440 -0.123183\n",
       "B -0.191440  1.000000  0.892085\n",
       "C -0.123183  0.892085  1.000000"
      ]
     },
     "execution_count": 119,
     "metadata": {},
     "output_type": "execute_result"
    }
   ],
   "source": [
    "df.corr()"
   ]
  },
  {
   "cell_type": "code",
   "execution_count": 121,
   "id": "6efe1307",
   "metadata": {},
   "outputs": [
    {
     "data": {
      "text/plain": [
       "<AxesSubplot:>"
      ]
     },
     "execution_count": 121,
     "metadata": {},
     "output_type": "execute_result"
    },
    {
     "data": {
      "image/png": "[encoded data removed]",
      "text/plain": [
       "<Figure size 640x480 with 2 Axes>"
      ]
     },
     "metadata": {},
     "output_type": "display_data"
    }
   ],
   "source": [
    "sns.heatmap(df.corr())"
   ]
  },
  {
   "cell_type": "code",
   "execution_count": null,
   "id": "ef30c27b",
   "metadata": {},
   "outputs": [],
   "source": []
  }
 ],
 "metadata": {
  "kernelspec": {
   "display_name": "Python 3 (ipykernel)",
   "language": "python",
   "name": "python3"
  },
  "language_info": {
   "codemirror_mode": {
    "name": "ipython",
    "version": 3
   },
   "file_extension": ".py",
   "mimetype": "text/x-python",
   "name": "python",
   "nbconvert_exporter": "python",
   "pygments_lexer": "ipython3",
   "version": "3.9.13"
  }
 },
 "nbformat": 4,
 "nbformat_minor": 5
}
